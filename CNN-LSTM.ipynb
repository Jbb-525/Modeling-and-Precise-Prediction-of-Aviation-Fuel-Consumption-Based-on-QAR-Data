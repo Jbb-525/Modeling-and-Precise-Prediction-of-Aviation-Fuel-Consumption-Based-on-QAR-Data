{
 "cells": [
  {
   "cell_type": "code",
   "execution_count": 1,
   "id": "45ec8f93",
   "metadata": {
    "ExecuteTime": {
     "end_time": "2023-12-16T08:37:52.668923Z",
     "start_time": "2023-12-16T08:37:47.290337Z"
    }
   },
   "outputs": [],
   "source": [
    "import numpy as np\n",
    "import pandas as pd\n",
    "from sklearn.preprocessing import MinMaxScaler\n",
    "import matplotlib.pyplot as plt\n",
    "import torch\n",
    "import torch.nn as nn\n",
    "import torch.utils.data as Data\n",
    "import torch.nn.init as init\n",
    "import torch.nn.functional as F"
   ]
  },
  {
   "cell_type": "code",
   "execution_count": 2,
   "id": "a87faca9",
   "metadata": {
    "ExecuteTime": {
     "end_time": "2023-12-16T08:37:52.685296Z",
     "start_time": "2023-12-16T08:37:52.679137Z"
    }
   },
   "outputs": [
    {
     "name": "stdout",
     "output_type": "stream",
     "text": [
      "cpu\n"
     ]
    }
   ],
   "source": [
    "device = torch.device(\"cuda\" if torch.cuda.is_available() else \"cpu\")\n",
    "print(device)"
   ]
  },
  {
   "cell_type": "code",
   "execution_count": 3,
   "id": "d13aba5e",
   "metadata": {
    "ExecuteTime": {
     "end_time": "2023-12-16T08:37:52.759651Z",
     "start_time": "2023-12-16T08:37:52.695719Z"
    }
   },
   "outputs": [
    {
     "data": {
      "text/html": [
       "<div>\n",
       "<style scoped>\n",
       "    .dataframe tbody tr th:only-of-type {\n",
       "        vertical-align: middle;\n",
       "    }\n",
       "\n",
       "    .dataframe tbody tr th {\n",
       "        vertical-align: top;\n",
       "    }\n",
       "\n",
       "    .dataframe thead th {\n",
       "        text-align: right;\n",
       "    }\n",
       "</style>\n",
       "<table border=\"1\" class=\"dataframe\">\n",
       "  <thead>\n",
       "    <tr style=\"text-align: right;\">\n",
       "      <th></th>\n",
       "      <th>Unnamed: 0</th>\n",
       "      <th>FLIGHT_NO2</th>\n",
       "      <th>FLIGHT_PHASE</th>\n",
       "      <th>ALT_STDC</th>\n",
       "      <th>TAS</th>\n",
       "      <th>GWC</th>\n",
       "      <th>N11</th>\n",
       "      <th>N21</th>\n",
       "      <th>CK_EGT1</th>\n",
       "      <th>N12</th>\n",
       "      <th>...</th>\n",
       "      <th>CK_EGT2</th>\n",
       "      <th>WIN_SPD</th>\n",
       "      <th>WIN_DIR</th>\n",
       "      <th>SAT</th>\n",
       "      <th>PITCH</th>\n",
       "      <th>VRTG</th>\n",
       "      <th>LONG</th>\n",
       "      <th>FF1C</th>\n",
       "      <th>FF2C</th>\n",
       "      <th>FF</th>\n",
       "    </tr>\n",
       "  </thead>\n",
       "  <tbody>\n",
       "    <tr>\n",
       "      <th>0</th>\n",
       "      <td>0</td>\n",
       "      <td>921.0</td>\n",
       "      <td>CLIMB</td>\n",
       "      <td>3796</td>\n",
       "      <td>219.8</td>\n",
       "      <td>64.43</td>\n",
       "      <td>85.4</td>\n",
       "      <td>95.8</td>\n",
       "      <td>718</td>\n",
       "      <td>85.4</td>\n",
       "      <td>...</td>\n",
       "      <td>714</td>\n",
       "      <td>19</td>\n",
       "      <td>253.8</td>\n",
       "      <td>6.5</td>\n",
       "      <td>6.0</td>\n",
       "      <td>0.910</td>\n",
       "      <td>0.2070</td>\n",
       "      <td>3271</td>\n",
       "      <td>3206</td>\n",
       "      <td>6477</td>\n",
       "    </tr>\n",
       "    <tr>\n",
       "      <th>1</th>\n",
       "      <td>1</td>\n",
       "      <td>921.0</td>\n",
       "      <td>CLIMB</td>\n",
       "      <td>3800</td>\n",
       "      <td>221.8</td>\n",
       "      <td>64.43</td>\n",
       "      <td>85.5</td>\n",
       "      <td>95.9</td>\n",
       "      <td>719</td>\n",
       "      <td>85.5</td>\n",
       "      <td>...</td>\n",
       "      <td>714</td>\n",
       "      <td>19</td>\n",
       "      <td>253.8</td>\n",
       "      <td>6.5</td>\n",
       "      <td>6.0</td>\n",
       "      <td>0.949</td>\n",
       "      <td>0.2109</td>\n",
       "      <td>3266</td>\n",
       "      <td>3206</td>\n",
       "      <td>6472</td>\n",
       "    </tr>\n",
       "    <tr>\n",
       "      <th>2</th>\n",
       "      <td>2</td>\n",
       "      <td>921.0</td>\n",
       "      <td>CLIMB</td>\n",
       "      <td>3808</td>\n",
       "      <td>223.8</td>\n",
       "      <td>64.43</td>\n",
       "      <td>85.8</td>\n",
       "      <td>95.9</td>\n",
       "      <td>719</td>\n",
       "      <td>85.8</td>\n",
       "      <td>...</td>\n",
       "      <td>716</td>\n",
       "      <td>19</td>\n",
       "      <td>253.8</td>\n",
       "      <td>6.3</td>\n",
       "      <td>5.6</td>\n",
       "      <td>0.949</td>\n",
       "      <td>0.2109</td>\n",
       "      <td>3315</td>\n",
       "      <td>3233</td>\n",
       "      <td>6548</td>\n",
       "    </tr>\n",
       "    <tr>\n",
       "      <th>3</th>\n",
       "      <td>3</td>\n",
       "      <td>921.0</td>\n",
       "      <td>CLIMB</td>\n",
       "      <td>3816</td>\n",
       "      <td>226.5</td>\n",
       "      <td>64.43</td>\n",
       "      <td>86.0</td>\n",
       "      <td>96.0</td>\n",
       "      <td>721</td>\n",
       "      <td>86.0</td>\n",
       "      <td>...</td>\n",
       "      <td>717</td>\n",
       "      <td>19</td>\n",
       "      <td>253.8</td>\n",
       "      <td>6.3</td>\n",
       "      <td>6.0</td>\n",
       "      <td>0.996</td>\n",
       "      <td>0.2109</td>\n",
       "      <td>3331</td>\n",
       "      <td>3259</td>\n",
       "      <td>6590</td>\n",
       "    </tr>\n",
       "    <tr>\n",
       "      <th>4</th>\n",
       "      <td>4</td>\n",
       "      <td>921.0</td>\n",
       "      <td>CLIMB</td>\n",
       "      <td>3828</td>\n",
       "      <td>227.5</td>\n",
       "      <td>64.43</td>\n",
       "      <td>86.1</td>\n",
       "      <td>96.0</td>\n",
       "      <td>721</td>\n",
       "      <td>86.1</td>\n",
       "      <td>...</td>\n",
       "      <td>717</td>\n",
       "      <td>18</td>\n",
       "      <td>251.7</td>\n",
       "      <td>6.3</td>\n",
       "      <td>6.0</td>\n",
       "      <td>1.035</td>\n",
       "      <td>0.2148</td>\n",
       "      <td>3348</td>\n",
       "      <td>3284</td>\n",
       "      <td>6632</td>\n",
       "    </tr>\n",
       "  </tbody>\n",
       "</table>\n",
       "<p>5 rows × 21 columns</p>\n",
       "</div>"
      ],
      "text/plain": [
       "   Unnamed: 0  FLIGHT_NO2 FLIGHT_PHASE  ALT_STDC    TAS    GWC   N11   N21  \\\n",
       "0           0       921.0        CLIMB      3796  219.8  64.43  85.4  95.8   \n",
       "1           1       921.0        CLIMB      3800  221.8  64.43  85.5  95.9   \n",
       "2           2       921.0        CLIMB      3808  223.8  64.43  85.8  95.9   \n",
       "3           3       921.0        CLIMB      3816  226.5  64.43  86.0  96.0   \n",
       "4           4       921.0        CLIMB      3828  227.5  64.43  86.1  96.0   \n",
       "\n",
       "   CK_EGT1   N12  ...  CK_EGT2  WIN_SPD  WIN_DIR  SAT  PITCH   VRTG    LONG  \\\n",
       "0      718  85.4  ...      714       19    253.8  6.5    6.0  0.910  0.2070   \n",
       "1      719  85.5  ...      714       19    253.8  6.5    6.0  0.949  0.2109   \n",
       "2      719  85.8  ...      716       19    253.8  6.3    5.6  0.949  0.2109   \n",
       "3      721  86.0  ...      717       19    253.8  6.3    6.0  0.996  0.2109   \n",
       "4      721  86.1  ...      717       18    251.7  6.3    6.0  1.035  0.2148   \n",
       "\n",
       "   FF1C  FF2C    FF  \n",
       "0  3271  3206  6477  \n",
       "1  3266  3206  6472  \n",
       "2  3315  3233  6548  \n",
       "3  3331  3259  6590  \n",
       "4  3348  3284  6632  \n",
       "\n",
       "[5 rows x 21 columns]"
      ]
     },
     "execution_count": 3,
     "metadata": {},
     "output_type": "execute_result"
    }
   ],
   "source": [
    "# 加载数据\n",
    "Data_ = pd.read_csv('../Untitled Folder/3Phrase_FlightData.csv')\n",
    "Data_.head(5)"
   ]
  },
  {
   "cell_type": "code",
   "execution_count": 4,
   "id": "ed0abf18",
   "metadata": {
    "ExecuteTime": {
     "end_time": "2023-12-16T08:37:59.719053Z",
     "start_time": "2023-12-16T08:37:59.700558Z"
    }
   },
   "outputs": [
    {
     "data": {
      "text/html": [
       "<style>#sk-container-id-1 {color: black;background-color: white;}#sk-container-id-1 pre{padding: 0;}#sk-container-id-1 div.sk-toggleable {background-color: white;}#sk-container-id-1 label.sk-toggleable__label {cursor: pointer;display: block;width: 100%;margin-bottom: 0;padding: 0.3em;box-sizing: border-box;text-align: center;}#sk-container-id-1 label.sk-toggleable__label-arrow:before {content: \"▸\";float: left;margin-right: 0.25em;color: #696969;}#sk-container-id-1 label.sk-toggleable__label-arrow:hover:before {color: black;}#sk-container-id-1 div.sk-estimator:hover label.sk-toggleable__label-arrow:before {color: black;}#sk-container-id-1 div.sk-toggleable__content {max-height: 0;max-width: 0;overflow: hidden;text-align: left;background-color: #f0f8ff;}#sk-container-id-1 div.sk-toggleable__content pre {margin: 0.2em;color: black;border-radius: 0.25em;background-color: #f0f8ff;}#sk-container-id-1 input.sk-toggleable__control:checked~div.sk-toggleable__content {max-height: 200px;max-width: 100%;overflow: auto;}#sk-container-id-1 input.sk-toggleable__control:checked~label.sk-toggleable__label-arrow:before {content: \"▾\";}#sk-container-id-1 div.sk-estimator input.sk-toggleable__control:checked~label.sk-toggleable__label {background-color: #d4ebff;}#sk-container-id-1 div.sk-label input.sk-toggleable__control:checked~label.sk-toggleable__label {background-color: #d4ebff;}#sk-container-id-1 input.sk-hidden--visually {border: 0;clip: rect(1px 1px 1px 1px);clip: rect(1px, 1px, 1px, 1px);height: 1px;margin: -1px;overflow: hidden;padding: 0;position: absolute;width: 1px;}#sk-container-id-1 div.sk-estimator {font-family: monospace;background-color: #f0f8ff;border: 1px dotted black;border-radius: 0.25em;box-sizing: border-box;margin-bottom: 0.5em;}#sk-container-id-1 div.sk-estimator:hover {background-color: #d4ebff;}#sk-container-id-1 div.sk-parallel-item::after {content: \"\";width: 100%;border-bottom: 1px solid gray;flex-grow: 1;}#sk-container-id-1 div.sk-label:hover label.sk-toggleable__label {background-color: #d4ebff;}#sk-container-id-1 div.sk-serial::before {content: \"\";position: absolute;border-left: 1px solid gray;box-sizing: border-box;top: 0;bottom: 0;left: 50%;z-index: 0;}#sk-container-id-1 div.sk-serial {display: flex;flex-direction: column;align-items: center;background-color: white;padding-right: 0.2em;padding-left: 0.2em;position: relative;}#sk-container-id-1 div.sk-item {position: relative;z-index: 1;}#sk-container-id-1 div.sk-parallel {display: flex;align-items: stretch;justify-content: center;background-color: white;position: relative;}#sk-container-id-1 div.sk-item::before, #sk-container-id-1 div.sk-parallel-item::before {content: \"\";position: absolute;border-left: 1px solid gray;box-sizing: border-box;top: 0;bottom: 0;left: 50%;z-index: -1;}#sk-container-id-1 div.sk-parallel-item {display: flex;flex-direction: column;z-index: 1;position: relative;background-color: white;}#sk-container-id-1 div.sk-parallel-item:first-child::after {align-self: flex-end;width: 50%;}#sk-container-id-1 div.sk-parallel-item:last-child::after {align-self: flex-start;width: 50%;}#sk-container-id-1 div.sk-parallel-item:only-child::after {width: 0;}#sk-container-id-1 div.sk-dashed-wrapped {border: 1px dashed gray;margin: 0 0.4em 0.5em 0.4em;box-sizing: border-box;padding-bottom: 0.4em;background-color: white;}#sk-container-id-1 div.sk-label label {font-family: monospace;font-weight: bold;display: inline-block;line-height: 1.2em;}#sk-container-id-1 div.sk-label-container {text-align: center;}#sk-container-id-1 div.sk-container {/* jupyter's `normalize.less` sets `[hidden] { display: none; }` but bootstrap.min.css set `[hidden] { display: none !important; }` so we also need the `!important` here to be able to override the default hidden behavior on the sphinx rendered scikit-learn.org. See: https://github.com/scikit-learn/scikit-learn/issues/21755 */display: inline-block !important;position: relative;}#sk-container-id-1 div.sk-text-repr-fallback {display: none;}</style><div id=\"sk-container-id-1\" class=\"sk-top-container\"><div class=\"sk-text-repr-fallback\"><pre>MinMaxScaler()</pre><b>In a Jupyter environment, please rerun this cell to show the HTML representation or trust the notebook. <br />On GitHub, the HTML representation is unable to render, please try loading this page with nbviewer.org.</b></div><div class=\"sk-container\" hidden><div class=\"sk-item\"><div class=\"sk-estimator sk-toggleable\"><input class=\"sk-toggleable__control sk-hidden--visually\" id=\"sk-estimator-id-1\" type=\"checkbox\" checked><label for=\"sk-estimator-id-1\" class=\"sk-toggleable__label sk-toggleable__label-arrow\">MinMaxScaler</label><div class=\"sk-toggleable__content\"><pre>MinMaxScaler()</pre></div></div></div></div></div>"
      ],
      "text/plain": [
       "MinMaxScaler()"
      ]
     },
     "execution_count": 4,
     "metadata": {},
     "output_type": "execute_result"
    }
   ],
   "source": [
    "# 归一化处理\n",
    "sc_data = MinMaxScaler(feature_range=(0, 1))\n",
    "sc_y = MinMaxScaler(feature_range=(0, 1))\n",
    "\n",
    "data_ = Data_.drop(columns=['Unnamed: 0','FLIGHT_PHASE','FF1C','FF2C'],axis=1).copy()\n",
    "data_y = Data_[['FF']].copy()\n",
    "data_sc = sc_data.fit_transform(data_)\n",
    "sc_y.fit(data_y)\n",
    "# Train_x = Data.drop(labels=['FF','FF1C','FF2C','Unnamed: 0','FLIGHT_PHASE'],axis=1).copy() \n",
    "# train_x = sc_x.transform(Train_x)\n",
    "\n",
    "# Train_y= Train[['FF']].copy()\n",
    "# train_y = sc_y.transform(Train_y)"
   ]
  },
  {
   "cell_type": "code",
   "execution_count": 5,
   "id": "f154d2e9",
   "metadata": {
    "ExecuteTime": {
     "end_time": "2023-12-16T08:38:05.587808Z",
     "start_time": "2023-12-16T08:38:05.573623Z"
    }
   },
   "outputs": [
    {
     "data": {
      "text/html": [
       "<div>\n",
       "<style scoped>\n",
       "    .dataframe tbody tr th:only-of-type {\n",
       "        vertical-align: middle;\n",
       "    }\n",
       "\n",
       "    .dataframe tbody tr th {\n",
       "        vertical-align: top;\n",
       "    }\n",
       "\n",
       "    .dataframe thead th {\n",
       "        text-align: right;\n",
       "    }\n",
       "</style>\n",
       "<table border=\"1\" class=\"dataframe\">\n",
       "  <thead>\n",
       "    <tr style=\"text-align: right;\">\n",
       "      <th></th>\n",
       "      <th>FLIGHT_NO2</th>\n",
       "      <th>ALT_STDC</th>\n",
       "      <th>TAS</th>\n",
       "      <th>GWC</th>\n",
       "      <th>N11</th>\n",
       "      <th>N21</th>\n",
       "      <th>CK_EGT1</th>\n",
       "      <th>N12</th>\n",
       "      <th>N22</th>\n",
       "      <th>CK_EGT2</th>\n",
       "      <th>WIN_SPD</th>\n",
       "      <th>WIN_DIR</th>\n",
       "      <th>SAT</th>\n",
       "      <th>PITCH</th>\n",
       "      <th>VRTG</th>\n",
       "      <th>LONG</th>\n",
       "      <th>FF</th>\n",
       "    </tr>\n",
       "  </thead>\n",
       "  <tbody>\n",
       "    <tr>\n",
       "      <th>0</th>\n",
       "      <td>0.0</td>\n",
       "      <td>0.033689</td>\n",
       "      <td>0.038358</td>\n",
       "      <td>0.953144</td>\n",
       "      <td>0.928467</td>\n",
       "      <td>0.887255</td>\n",
       "      <td>0.924242</td>\n",
       "      <td>0.928467</td>\n",
       "      <td>0.889976</td>\n",
       "      <td>0.908861</td>\n",
       "      <td>0.132812</td>\n",
       "      <td>0.707752</td>\n",
       "      <td>0.860979</td>\n",
       "      <td>0.594595</td>\n",
       "      <td>0.205508</td>\n",
       "      <td>0.908910</td>\n",
       "      <td>0.959025</td>\n",
       "    </tr>\n",
       "    <tr>\n",
       "      <th>1</th>\n",
       "      <td>0.0</td>\n",
       "      <td>0.033841</td>\n",
       "      <td>0.046030</td>\n",
       "      <td>0.953144</td>\n",
       "      <td>0.929927</td>\n",
       "      <td>0.889706</td>\n",
       "      <td>0.926768</td>\n",
       "      <td>0.929927</td>\n",
       "      <td>0.889976</td>\n",
       "      <td>0.908861</td>\n",
       "      <td>0.132812</td>\n",
       "      <td>0.707752</td>\n",
       "      <td>0.860979</td>\n",
       "      <td>0.594595</td>\n",
       "      <td>0.288136</td>\n",
       "      <td>0.921875</td>\n",
       "      <td>0.958249</td>\n",
       "    </tr>\n",
       "    <tr>\n",
       "      <th>2</th>\n",
       "      <td>0.0</td>\n",
       "      <td>0.034146</td>\n",
       "      <td>0.053702</td>\n",
       "      <td>0.953144</td>\n",
       "      <td>0.934307</td>\n",
       "      <td>0.889706</td>\n",
       "      <td>0.926768</td>\n",
       "      <td>0.934307</td>\n",
       "      <td>0.892421</td>\n",
       "      <td>0.913924</td>\n",
       "      <td>0.132812</td>\n",
       "      <td>0.707752</td>\n",
       "      <td>0.857820</td>\n",
       "      <td>0.567568</td>\n",
       "      <td>0.288136</td>\n",
       "      <td>0.921875</td>\n",
       "      <td>0.970045</td>\n",
       "    </tr>\n",
       "    <tr>\n",
       "      <th>3</th>\n",
       "      <td>0.0</td>\n",
       "      <td>0.034451</td>\n",
       "      <td>0.064058</td>\n",
       "      <td>0.953144</td>\n",
       "      <td>0.937226</td>\n",
       "      <td>0.892157</td>\n",
       "      <td>0.931818</td>\n",
       "      <td>0.937226</td>\n",
       "      <td>0.894866</td>\n",
       "      <td>0.916456</td>\n",
       "      <td>0.132812</td>\n",
       "      <td>0.707752</td>\n",
       "      <td>0.857820</td>\n",
       "      <td>0.594595</td>\n",
       "      <td>0.387712</td>\n",
       "      <td>0.921875</td>\n",
       "      <td>0.976564</td>\n",
       "    </tr>\n",
       "    <tr>\n",
       "      <th>4</th>\n",
       "      <td>0.0</td>\n",
       "      <td>0.034909</td>\n",
       "      <td>0.067894</td>\n",
       "      <td>0.953144</td>\n",
       "      <td>0.938686</td>\n",
       "      <td>0.892157</td>\n",
       "      <td>0.931818</td>\n",
       "      <td>0.938686</td>\n",
       "      <td>0.894866</td>\n",
       "      <td>0.916456</td>\n",
       "      <td>0.125000</td>\n",
       "      <td>0.701896</td>\n",
       "      <td>0.857820</td>\n",
       "      <td>0.594595</td>\n",
       "      <td>0.470339</td>\n",
       "      <td>0.934840</td>\n",
       "      <td>0.983082</td>\n",
       "    </tr>\n",
       "  </tbody>\n",
       "</table>\n",
       "</div>"
      ],
      "text/plain": [
       "   FLIGHT_NO2  ALT_STDC       TAS       GWC       N11       N21   CK_EGT1  \\\n",
       "0         0.0  0.033689  0.038358  0.953144  0.928467  0.887255  0.924242   \n",
       "1         0.0  0.033841  0.046030  0.953144  0.929927  0.889706  0.926768   \n",
       "2         0.0  0.034146  0.053702  0.953144  0.934307  0.889706  0.926768   \n",
       "3         0.0  0.034451  0.064058  0.953144  0.937226  0.892157  0.931818   \n",
       "4         0.0  0.034909  0.067894  0.953144  0.938686  0.892157  0.931818   \n",
       "\n",
       "        N12       N22   CK_EGT2   WIN_SPD   WIN_DIR       SAT     PITCH  \\\n",
       "0  0.928467  0.889976  0.908861  0.132812  0.707752  0.860979  0.594595   \n",
       "1  0.929927  0.889976  0.908861  0.132812  0.707752  0.860979  0.594595   \n",
       "2  0.934307  0.892421  0.913924  0.132812  0.707752  0.857820  0.567568   \n",
       "3  0.937226  0.894866  0.916456  0.132812  0.707752  0.857820  0.594595   \n",
       "4  0.938686  0.894866  0.916456  0.125000  0.701896  0.857820  0.594595   \n",
       "\n",
       "       VRTG      LONG        FF  \n",
       "0  0.205508  0.908910  0.959025  \n",
       "1  0.288136  0.921875  0.958249  \n",
       "2  0.288136  0.921875  0.970045  \n",
       "3  0.387712  0.921875  0.976564  \n",
       "4  0.470339  0.934840  0.983082  "
      ]
     },
     "execution_count": 5,
     "metadata": {},
     "output_type": "execute_result"
    }
   ],
   "source": [
    "data_label = data_.columns.values\n",
    "data_dic = dict(zip(data_label,data_sc.T))\n",
    "data_df = pd.DataFrame(data_dic)\n",
    "data_df.head(5)"
   ]
  },
  {
   "cell_type": "code",
   "execution_count": 8,
   "id": "2c7d13ee",
   "metadata": {
    "ExecuteTime": {
     "end_time": "2023-12-16T08:38:16.844885Z",
     "start_time": "2023-12-16T08:38:16.838612Z"
    }
   },
   "outputs": [],
   "source": [
    "# 拆分训练集和测试集，这里以3架航班的数据作为训练集，一架航班的数据作为测试集。\n",
    "Flight_Number = data_df['FLIGHT_NO2'].unique()\n",
    "Train = data_df[data_df['FLIGHT_NO2']!=Flight_Number[-1]]\n",
    "Test = data_df[data_df['FLIGHT_NO2']==Flight_Number[-1]]"
   ]
  },
  {
   "cell_type": "code",
   "execution_count": 6,
   "id": "c1fe3a26",
   "metadata": {
    "ExecuteTime": {
     "end_time": "2023-12-16T08:38:06.656146Z",
     "start_time": "2023-12-16T08:38:06.651305Z"
    }
   },
   "outputs": [],
   "source": [
    "def create_seq(input_data, tw):\n",
    "    inout_seq = []\n",
    "    F_NO = input_data['FLIGHT_NO2'].unique()\n",
    "    for f in F_NO:\n",
    "        in_data = input_data[input_data['FLIGHT_NO2']==f].reset_index(drop=True)\n",
    "        in_data_x = in_data.drop(columns=['FLIGHT_NO2','FF'],axis=1).copy()\n",
    "        in_data_y = in_data['FF'].copy()\n",
    "        L = len(in_data)\n",
    "        for i in range(L-tw+1):\n",
    "            train_seq = in_data_x[i:i+tw]\n",
    "            train_seq = torch.tensor(data=train_seq.values).type(torch.float32).to(device)\n",
    "            train_label = in_data_y[i+tw-1]\n",
    "            train_label = torch.tensor(data=train_label).type(torch.float32).to(device)\n",
    "            inout_seq.append((train_seq ,train_label))\n",
    "    \n",
    "    return inout_seq"
   ]
  },
  {
   "cell_type": "code",
   "execution_count": 9,
   "id": "6af89ab7",
   "metadata": {
    "ExecuteTime": {
     "end_time": "2023-12-16T08:38:20.094636Z",
     "start_time": "2023-12-16T08:38:18.468277Z"
    }
   },
   "outputs": [
    {
     "name": "stdout",
     "output_type": "stream",
     "text": [
      "The total number of train windows is 17897\n",
      "The shape of train_seq is torch.Size([15, 15])\n",
      "The total number of test windows is 5311\n",
      "The shape of test_seq is torch.Size([15, 15])\n"
     ]
    }
   ],
   "source": [
    "tw = 15\n",
    "train_inout_seq = create_seq(Train, tw)\n",
    "print('The total number of train windows is {}'.format(len(train_inout_seq)))\n",
    "print('The shape of train_seq is {}'.format(train_inout_seq[0][0].size()))\n",
    "\n",
    "test_inout_seq = create_seq(Test, tw)\n",
    "print('The total number of test windows is {}'.format(len(test_inout_seq)))\n",
    "print('The shape of test_seq is',format(test_inout_seq[0][0].size()))"
   ]
  },
  {
   "cell_type": "markdown",
   "id": "e658a7c2",
   "metadata": {},
   "source": [
    "## CNN-LSTM"
   ]
  },
  {
   "cell_type": "code",
   "execution_count": 10,
   "id": "539cf1d9",
   "metadata": {
    "ExecuteTime": {
     "end_time": "2023-12-16T08:38:55.289764Z",
     "start_time": "2023-12-16T08:38:55.285511Z"
    }
   },
   "outputs": [],
   "source": [
    "class CNN1D(nn.Module):\n",
    "    def __init__(self,input_dim,output_dim,filter_num,ksize):\n",
    "        super(CNN1D, self).__init__()\n",
    "        \n",
    "        self.input_dim = input_dim\n",
    "        self.output_dim = output_dim\n",
    "        self.filter_num = filter_num\n",
    "        self.ksize = ksize\n",
    "        self.conv = nn.Conv1d(input_dim,filter_num,ksize)\n",
    "        self.maxpool = nn.MaxPool1d(2)\n",
    "        self.linear = nn.Linear(192, self.output_dim)\n",
    "\n",
    "    def forward(self, x):\n",
    "        x = x.reshape(-1, self.input_dim, self.input_dim)\n",
    "        x = self.conv(x)\n",
    "        x = self.maxpool(x)\n",
    "        x = x.view(-1,192)\n",
    "        out = self.linear(x)\n",
    "        \n",
    "        return out"
   ]
  },
  {
   "cell_type": "code",
   "execution_count": 11,
   "id": "83af2b0a",
   "metadata": {
    "ExecuteTime": {
     "end_time": "2023-12-16T08:38:55.760117Z",
     "start_time": "2023-12-16T08:38:55.753894Z"
    }
   },
   "outputs": [],
   "source": [
    "# 模型构建\n",
    "class LSTM(nn.Module):\n",
    "    def __init__(self, hidden_layer_size = 50, layer_num = 1):\n",
    "        super(LSTM, self).__init__()\n",
    "        #填写程序\n",
    "        self.layer_num = layer_num\n",
    "        self.input_size = 15\n",
    "        self.output_size = 15\n",
    "        self.hidden_layer_size = hidden_layer_size\n",
    "        self.lstm = nn.LSTM(self.input_size,\n",
    "                           hidden_layer_size,\n",
    "                           layer_num,\n",
    "                           batch_first = True,\n",
    "                           bidirectional = False)\n",
    "#         self.output = nn.Linear(hidden_layer_size, self.output_size)\n",
    "#         init_lstm(self.lstm)\n",
    "        \n",
    "    def forward(self, input_seq):\n",
    "        input_seq = input_seq.reshape(-1, self.input_size, self.input_size)\n",
    "\n",
    "        h0 = torch.zeros(self.layer_num, input_seq.size(0), self.hidden_layer_size).to(device)\n",
    "        c0 = torch.zeros(self.layer_num, input_seq.size(0), self.hidden_layer_size).to(device)\n",
    "\n",
    "        out, (hn, cn) = self.lstm(input_seq, (h0, c0))\n",
    "#         out = self.output(out)\n",
    "        \n",
    "        return out       \n",
    "\n",
    "def init_lstm(x):\n",
    "    \"\"\"\n",
    "    初始化网络权重\n",
    "    LSTM 网络采tanh激活函数，使用Xavier初始化\n",
    "    \"\"\"\n",
    "    for layer in x._all_weights:\n",
    "        for w in layer:\n",
    "            if 'weight' in w:\n",
    "                init.xavier_normal_(getattr(x, w))"
   ]
  },
  {
   "cell_type": "code",
   "execution_count": 12,
   "id": "a25323df",
   "metadata": {
    "ExecuteTime": {
     "end_time": "2023-12-16T08:38:58.410858Z",
     "start_time": "2023-12-16T08:38:58.406224Z"
    }
   },
   "outputs": [],
   "source": [
    "input_dim = len(train_inout_seq[0][0])\n",
    "output_dim = len(train_inout_seq[0][0])\n",
    "filter_num = 32\n",
    "ksize = 4\n",
    "epo = 2000\n",
    "batch_size=256"
   ]
  },
  {
   "cell_type": "code",
   "execution_count": 58,
   "id": "7b379668",
   "metadata": {
    "ExecuteTime": {
     "end_time": "2023-12-16T09:13:49.251184Z",
     "start_time": "2023-12-16T09:13:49.247147Z"
    }
   },
   "outputs": [],
   "source": [
    "cnn1d = CNN1D(input_dim,output_dim,filter_num,ksize)\n",
    "lstm = LSTM(hidden_layer_size = 50, layer_num = 1)"
   ]
  },
  {
   "cell_type": "code",
   "execution_count": 59,
   "id": "7a066a38",
   "metadata": {
    "ExecuteTime": {
     "end_time": "2023-12-16T09:13:49.994057Z",
     "start_time": "2023-12-16T09:13:49.988157Z"
    }
   },
   "outputs": [],
   "source": [
    "def cnn_lstm():\n",
    "    data_loader = Data.DataLoader(train_inout_seq,batch_size,shuffle=False)\n",
    "    loss_function = nn.MSELoss(reduction='mean').requires_grad_(True)\n",
    "    cnn_optimizer = torch.optim.Adam(cnn1d.parameters(), lr=1e-3)\n",
    "    lstm_optimizer = torch.optim.Adam(lstm.parameters(), lr=1e-3)\n",
    "    linear_1 = nn.Linear(50,32)\n",
    "    linear_2 = nn.Linear(32,1)\n",
    "    \n",
    "    Losslist = []\n",
    "    y_pred = []\n",
    "    for i in range(2000):\n",
    "        Loss = []\n",
    "        for batch_id, (seq, label) in enumerate(data_loader):\n",
    "            cnn_optimizer.zero_grad()\n",
    "            cnn_out = cnn1d(seq).reshape(len(seq),-1,1)\n",
    "            lstm_optimizer.zero_grad()\n",
    "            lstm_out = lstm(seq).permute(0,2,1)\n",
    "            \n",
    "            cnnlstm = lstm_out.matmul(cnn_out).permute(0,2,1)\n",
    "            out = linear_1(cnnlstm)\n",
    "            out = linear_2(out).squeeze(-1).squeeze(-1)\n",
    "            loss = loss_function(out, label)\n",
    "            loss.backward()\n",
    "            cnn_optimizer.step()\n",
    "            lstm_optimizer.step()\n",
    "            \n",
    "            Loss.append(loss.item())\n",
    "        L = np.mean(Loss)\n",
    "        Losslist.append(L)\n",
    "    \n",
    "    return Losslist"
   ]
  },
  {
   "cell_type": "code",
   "execution_count": 60,
   "id": "61d15efb",
   "metadata": {
    "ExecuteTime": {
     "end_time": "2023-12-16T09:34:11.553302Z",
     "start_time": "2023-12-16T09:13:50.860809Z"
    }
   },
   "outputs": [],
   "source": [
    "Losslist = cnn_lstm()"
   ]
  },
  {
   "cell_type": "code",
   "execution_count": null,
   "id": "412f7bf0",
   "metadata": {},
   "outputs": [],
   "source": []
  },
  {
   "cell_type": "code",
   "execution_count": 49,
   "id": "e705e2af",
   "metadata": {
    "ExecuteTime": {
     "end_time": "2023-12-16T08:47:46.860315Z",
     "start_time": "2023-12-16T08:47:46.854009Z"
    }
   },
   "outputs": [],
   "source": [
    "def test():\n",
    "    loss_function = nn.MSELoss(reduction='mean').requires_grad_(True)\n",
    "    y_pred_test = []\n",
    "    y_true_test = []\n",
    "    pred_loss = []\n",
    "    linear_1 = nn.Linear(50,32)\n",
    "    linear_2 = nn.Linear(32,1)\n",
    "    for i in range(len(test_inout_seq)):\n",
    "#         label = torch.tensor(test_inout_seq[i][1])\n",
    "        label = test_inout_seq[i][1]\n",
    "        \n",
    "        cnn_out_test = cnn1d(test_inout_seq[i][0]).reshape(1,-1,1)\n",
    "        lstm_out_test = lstm(test_inout_seq[i][0]).permute(0,2,1)\n",
    "        cnnlstm = lstm_out_test.matmul(cnn_out_test).permute(0,2,1)\n",
    "        \n",
    "        out = linear_1(cnnlstm)\n",
    "        out = linear_2(out).squeeze(-1).squeeze(-1)\n",
    "        loss = loss_function(out, label)\n",
    "        pred_loss.append(loss.item())\n",
    "        y_pred_test.append(out.item())\n",
    "        y_true_test.append(label.item())\n",
    "        \n",
    "    return y_pred_test,pred_loss\n",
    "        "
   ]
  },
  {
   "cell_type": "code",
   "execution_count": 52,
   "id": "1e0ab994",
   "metadata": {
    "ExecuteTime": {
     "end_time": "2023-12-16T08:48:00.554148Z",
     "start_time": "2023-12-16T08:48:00.551366Z"
    }
   },
   "outputs": [],
   "source": [
    "y_pred_test,pred_loss = test()"
   ]
  },
  {
   "cell_type": "code",
   "execution_count": null,
   "id": "5dc66fef",
   "metadata": {},
   "outputs": [],
   "source": []
  }
 ],
 "metadata": {
  "kernelspec": {
   "display_name": "Python 3 (ipykernel)",
   "language": "python",
   "name": "python3"
  },
  "language_info": {
   "codemirror_mode": {
    "name": "ipython",
    "version": 3
   },
   "file_extension": ".py",
   "mimetype": "text/x-python",
   "name": "python",
   "nbconvert_exporter": "python",
   "pygments_lexer": "ipython3",
   "version": "3.11.3"
  },
  "varInspector": {
   "cols": {
    "lenName": 16,
    "lenType": 16,
    "lenVar": 40
   },
   "kernels_config": {
    "python": {
     "delete_cmd_postfix": "",
     "delete_cmd_prefix": "del ",
     "library": "var_list.py",
     "varRefreshCmd": "print(var_dic_list())"
    },
    "r": {
     "delete_cmd_postfix": ") ",
     "delete_cmd_prefix": "rm(",
     "library": "var_list.r",
     "varRefreshCmd": "cat(var_dic_list()) "
    }
   },
   "types_to_exclude": [
    "module",
    "function",
    "builtin_function_or_method",
    "instance",
    "_Feature"
   ],
   "window_display": false
  }
 },
 "nbformat": 4,
 "nbformat_minor": 5
}
