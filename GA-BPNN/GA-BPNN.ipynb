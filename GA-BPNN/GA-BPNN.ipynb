{
 "cells": [
  {
   "cell_type": "markdown",
   "id": "70d58d9a",
   "metadata": {},
   "source": [
    "#  GA-BPNN using LM optimization function or other"
   ]
  },
  {
   "cell_type": "code",
   "execution_count": 1,
   "id": "efc1ebd3",
   "metadata": {},
   "outputs": [],
   "source": [
    "import torch\n",
    "import torch.nn as nn\n",
    "import pandas as pd\n",
    "import numpy as np\n",
    "import copy\n",
    "from sklearn.preprocessing import MinMaxScaler\n",
    "import matplotlib.pyplot as plt\n",
    "import BPNN\n",
    "import GA\n"
   ]
  },
  {
   "cell_type": "code",
   "execution_count": 2,
   "id": "f0b97ef7",
   "metadata": {},
   "outputs": [],
   "source": [
    "data = pd.read_csv('./Climb_train_data.csv')\n",
    "test_data = pd.read_csv('./Climb_test_data.csv')\n",
    "\n",
    "Climb_data = pd.concat([data, test_data],axis =0).reset_index(drop=True)"
   ]
  },
  {
   "cell_type": "code",
   "execution_count": 3,
   "id": "0de5eaba",
   "metadata": {},
   "outputs": [],
   "source": [
    "sc_x_train = MinMaxScaler(feature_range=(0, 1))\n",
    "sc_y_train = MinMaxScaler(feature_range=(0, 1))\n",
    "Climb_data_x = Climb_data.drop(labels=['FF','FF1C','FF2C'],axis=1).copy() \n",
    "sc_x_train.fit(Climb_data_x)\n",
    "Climb_data_y = Climb_data[['FF']].copy()\n",
    "sc_y_train.fit(Climb_data_y)\n",
    "\n",
    "X = data.drop(labels=['FF','FF1C','FF2C'],axis=1).copy() \n",
    "X_stand = sc_x_train.transform(X)\n",
    "x_train = torch.tensor(data=X_stand)\n",
    "\n",
    "Y = data[['FF']].copy()\n",
    "Y_stand = sc_y_train.transform(Y)\n",
    "y_train = torch.tensor(data=Y_stand)"
   ]
  },
  {
   "cell_type": "code",
   "execution_count": 4,
   "id": "02082b6c",
   "metadata": {},
   "outputs": [],
   "source": [
    "input_size, output_size = x_train.shape[1], y_train.shape[1]\n",
    "hidden_size = 10\n",
    "alpha = 0.01"
   ]
  },
  {
   "cell_type": "code",
   "execution_count": 5,
   "id": "3e7a37c3",
   "metadata": {},
   "outputs": [],
   "source": [
    "model = BPNN.OneHiddenLayerNet(input_size,hidden_size,output_size)"
   ]
  },
  {
   "cell_type": "code",
   "execution_count": 6,
   "id": "977c6edd",
   "metadata": {},
   "outputs": [],
   "source": [
    "def chrom_to_params(chrom):\n",
    "    \"\"\" 染色体转码为模型参数 \"\"\"\n",
    "    params_template = copy.deepcopy(model.state_dict())\n",
    "    params = copy.deepcopy(params_template)\n",
    "    idx = 0\n",
    "    for key in params:\n",
    "        params_len = np.prod(params_template[key].shape)\n",
    "        param = torch.from_numpy(chrom[idx: idx+params_len]).reshape(params_template[key].shape)\n",
    "        params[key] = param\n",
    "        idx += params_len\n",
    "    return params"
   ]
  },
  {
   "cell_type": "code",
   "execution_count": 7,
   "id": "39521a2a",
   "metadata": {},
   "outputs": [],
   "source": [
    "def calculate_fitness(chrom):\n",
    "    \"\"\" GA适应性函数 \"\"\"\n",
    "    params = chrom_to_params(chrom)\n",
    "    model.load_state_dict(params)\n",
    "#     loss = BPNN.train_model_lrfix(x_train,y_train,model,learning_rate=0.1,m=0.9)[0]\n",
    "    loss = BPNN.levenberg_marquardt(model, x_train, y_train,alpha)[0]\n",
    "    print(\"loss:{} \".format(loss))\n",
    "    fitness = 1./loss\n",
    "    return fitness"
   ]
  },
  {
   "cell_type": "code",
   "execution_count": 36,
   "id": "c48ecac6",
   "metadata": {},
   "outputs": [],
   "source": [
    "pop_size = 100\n",
    "num_len = 50\n",
    "bound = [-1,+1]\n",
    "\n",
    "# 编码长度\n",
    "params_template = copy.deepcopy(model.state_dict())\n",
    "chrom_len = 0\n",
    "for key in params_template:\n",
    "    params_len = np.prod(params_template[key].shape)\n",
    "    chrom_len += params_len"
   ]
  },
  {
   "cell_type": "code",
   "execution_count": 8,
   "id": "b50b9ac3",
   "metadata": {
    "scrolled": true
   },
   "outputs": [],
   "source": [
    "ga = GA.Genetic_Algorithm(pop_size, chrom_len, bound, calculate_fitness, GenomeClass = GA.GenomeBinary, cross_prob=0.85, mutate_prob=0.015)"
   ]
  },
  {
   "cell_type": "code",
   "execution_count": 9,
   "id": "d01aa0a6",
   "metadata": {},
   "outputs": [],
   "source": [
    "ga.genetic(num_len, log=True)"
   ]
  },
  {
   "cell_type": "code",
   "execution_count": 11,
   "id": "2ecb74f5",
   "metadata": {},
   "outputs": [],
   "source": [
    "best_ga_params = chrom_to_params(ga.result())\n",
    "torch.save(best_ga_params,'LM-0.01-10.pkl')"
   ]
  },
  {
   "cell_type": "code",
   "execution_count": 12,
   "id": "f6a433e4",
   "metadata": {
    "collapsed": true
   },
   "outputs": [
    {
     "data": {
      "text/plain": [
       "(9.208651730323539e-05,\n",
       " [0.0007310089655235172,\n",
       "  0.0005034781448731188,\n",
       "  0.0002352954613583438,\n",
       "  0.00020490749483693138,\n",
       "  0.00019750648197453444,\n",
       "  0.0001707963187034154,\n",
       "  0.00016298176707968653,\n",
       "  0.00015310003919326187,\n",
       "  0.0001529620938139316,\n",
       "  0.00011234537348629434,\n",
       "  8.352054903561462e-05,\n",
       "  7.937610350652702e-05,\n",
       "  7.790599937030348e-05,\n",
       "  7.606783693683181e-05,\n",
       "  7.486008353427795e-05,\n",
       "  7.391771428386759e-05,\n",
       "  7.312070713606167e-05,\n",
       "  7.146401995658079e-05,\n",
       "  6.944389895232047e-05,\n",
       "  5.870413387394314e-05,\n",
       "  5.802218181173694e-05,\n",
       "  5.611545586585596e-05,\n",
       "  5.567402184925219e-05,\n",
       "  5.4485424256879917e-05,\n",
       "  5.4347153780398016e-05,\n",
       "  5.343204399750851e-05,\n",
       "  5.29121283769102e-05,\n",
       "  4.7315408486810766e-05,\n",
       "  4.666927763830099e-05,\n",
       "  4.618989825550882e-05,\n",
       "  4.600095419603136e-05,\n",
       "  4.591035243174514e-05,\n",
       "  4.533568915809548e-05,\n",
       "  4.31386642514161e-05,\n",
       "  4.008871893855752e-05,\n",
       "  3.8934722831520886e-05,\n",
       "  3.798996023889402e-05,\n",
       "  3.7823435780678714e-05,\n",
       "  3.7592509687647084e-05,\n",
       "  3.7431267742219706e-05,\n",
       "  3.729708216535419e-05,\n",
       "  3.7166654481321057e-05,\n",
       "  3.715179760737645e-05,\n",
       "  3.703765264692451e-05,\n",
       "  3.636915332285406e-05,\n",
       "  3.586026736192085e-05,\n",
       "  3.573967337991344e-05,\n",
       "  3.550091144609527e-05,\n",
       "  3.54269514782404e-05,\n",
       "  3.537062978319754e-05,\n",
       "  3.531915178647389e-05])"
      ]
     },
     "execution_count": 12,
     "metadata": {},
     "output_type": "execute_result"
    }
   ],
   "source": [
    "model_best = BPNN.OneHiddenLayerNet(input_size,hidden_size,output_size)\n",
    "# model_best.load_state_dict(best_ga_params)\n",
    "model_best.load_state_dict(torch.load('LM-0.01-10.pkl'))\n",
    "# BPNN.train_model_lrfix(x_train,y_train,model_best,learning_rate=0.1,m=0.9)\n",
    "BPNN.levenberg_marquardt(model_best, x_train, y_train, alpha)"
   ]
  },
  {
   "cell_type": "code",
   "execution_count": 13,
   "id": "fcb2c099",
   "metadata": {
    "scrolled": false
   },
   "outputs": [
    {
     "name": "stdout",
     "output_type": "stream",
     "text": [
      "3.5319151786473905e-05\n"
     ]
    }
   ],
   "source": [
    "y_pred = model_best(x_train)\n",
    "Loss = nn.MSELoss(reduction='mean')\n",
    "loss = Loss(y_pred, y_train)\n",
    "print(loss.item())"
   ]
  }
 ],
 "metadata": {
  "kernelspec": {
   "display_name": "Python 3 (ipykernel)",
   "language": "python",
   "name": "python3"
  },
  "language_info": {
   "codemirror_mode": {
    "name": "ipython",
    "version": 3
   },
   "file_extension": ".py",
   "mimetype": "text/x-python",
   "name": "python",
   "nbconvert_exporter": "python",
   "pygments_lexer": "ipython3",
   "version": "3.11.3"
  },
  "varInspector": {
   "cols": {
    "lenName": 16,
    "lenType": 16,
    "lenVar": 40
   },
   "kernels_config": {
    "python": {
     "delete_cmd_postfix": "",
     "delete_cmd_prefix": "del ",
     "library": "var_list.py",
     "varRefreshCmd": "print(var_dic_list())"
    },
    "r": {
     "delete_cmd_postfix": ") ",
     "delete_cmd_prefix": "rm(",
     "library": "var_list.r",
     "varRefreshCmd": "cat(var_dic_list()) "
    }
   },
   "types_to_exclude": [
    "module",
    "function",
    "builtin_function_or_method",
    "instance",
    "_Feature"
   ],
   "window_display": false
  }
 },
 "nbformat": 4,
 "nbformat_minor": 5
}
