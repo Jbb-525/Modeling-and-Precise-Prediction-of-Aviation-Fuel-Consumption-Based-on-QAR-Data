{
 "cells": [
  {
   "cell_type": "code",
   "execution_count": 1,
   "id": "c0d2acf7",
   "metadata": {
    "ExecuteTime": {
     "end_time": "2023-12-15T07:02:15.672824Z",
     "start_time": "2023-12-15T07:02:12.765298Z"
    }
   },
   "outputs": [],
   "source": [
    "import PSO\n",
    "import Elman\n",
    "import copy\n",
    "import torch\n",
    "import numpy as np\n",
    "import pandas as pd\n",
    "from torch.autograd import Variable\n",
    "from sklearn.preprocessing import MinMaxScaler\n",
    "import torch.utils.data as Data\n",
    "# import torch.nn.functional as F"
   ]
  },
  {
   "cell_type": "code",
   "execution_count": 2,
   "id": "271d1d9a",
   "metadata": {
    "ExecuteTime": {
     "end_time": "2023-12-15T07:03:57.819968Z",
     "start_time": "2023-12-15T07:03:57.801532Z"
    }
   },
   "outputs": [],
   "source": [
    "# data = pd.read_csv('./train_data.csv')\n",
    "# test_data = pd.read_csv('./test_data.csv')\n",
    "data = pd.read_csv('C:\\\\Users\\\\JIBINBIN\\\\QAR\\\\Dataset\\\\climb_train_0.csv')\n",
    "test_data = pd.read_csv('C:\\\\Users\\\\JIBINBIN\\\\QAR\\\\Dataset\\\\climb_test_0.csv')\n",
    "\n",
    "_data = pd.concat([data, test_data],axis =0).reset_index(drop=True)"
   ]
  },
  {
   "cell_type": "code",
   "execution_count": 3,
   "id": "b4357948",
   "metadata": {
    "ExecuteTime": {
     "end_time": "2023-12-15T07:03:58.132622Z",
     "start_time": "2023-12-15T07:03:58.115948Z"
    }
   },
   "outputs": [],
   "source": [
    "sc_x_train = MinMaxScaler(feature_range=(0, 1))\n",
    "sc_y_train = MinMaxScaler(feature_range=(0, 1))\n",
    "_data_x = _data.drop(labels=['FF','FF1C','FF2C','Unnamed: 0'],axis=1).copy() \n",
    "sc_x_train.fit(_data_x)\n",
    "_data_y = _data[['FF']].copy()\n",
    "sc_y_train.fit(_data_y)\n",
    "\n",
    "X = data.drop(labels=['FF','FF1C','FF2C','Unnamed: 0'],axis=1).copy() \n",
    "X_stand = sc_x_train.transform(X)\n",
    "x_train = torch.tensor(data=X_stand)\n",
    "\n",
    "Y = data[['FF']].copy()\n",
    "Y_stand = sc_y_train.transform(Y)\n",
    "y_train = torch.tensor(data=Y_stand)"
   ]
  },
  {
   "cell_type": "code",
   "execution_count": 19,
   "id": "444dc625",
   "metadata": {
    "ExecuteTime": {
     "end_time": "2023-12-15T08:32:21.734044Z",
     "start_time": "2023-12-15T08:32:21.723826Z"
    }
   },
   "outputs": [],
   "source": [
    "X_test = test_data.drop(labels=['FF','FF1C','FF2C','Unnamed: 0'],axis=1).copy() \n",
    "X_stand_test = sc_x_train.transform(X_test)\n",
    "x_test = torch.tensor(data=X_stand_test).type(torch.DoubleTensor)\n",
    "\n",
    "Y_test = test_data[['FF']].copy()\n",
    "Y_stand_test = sc_y_train.transform(Y_test)\n",
    "y_test = torch.tensor(data=Y_stand_test).type(torch.DoubleTensor)"
   ]
  },
  {
   "cell_type": "code",
   "execution_count": 4,
   "id": "ee586198",
   "metadata": {
    "ExecuteTime": {
     "end_time": "2023-12-15T07:03:58.410167Z",
     "start_time": "2023-12-15T07:03:58.406106Z"
    }
   },
   "outputs": [],
   "source": [
    "input_size, output_size = x_train.shape[1], y_train.shape[1]\n",
    "hidden_size = 7"
   ]
  },
  {
   "cell_type": "code",
   "execution_count": 5,
   "id": "ee68551d",
   "metadata": {
    "ExecuteTime": {
     "end_time": "2023-12-15T07:03:58.854007Z",
     "start_time": "2023-12-15T07:03:58.846961Z"
    }
   },
   "outputs": [],
   "source": [
    "# 初始化权重矩阵\n",
    "def initialize():\n",
    "    w1 = torch.FloatTensor(input_size, hidden_size).type(torch.DoubleTensor)\n",
    "#     init.normal_(w1,0,0.3)\n",
    "#     init.normal(w1,0,0)\n",
    "    w1 = Variable(w1, requires_grad=True)\n",
    "    \n",
    "    b1 = torch.FloatTensor(1, hidden_size).type(torch.DoubleTensor)\n",
    "#     init.normal_(b1,0,0.3)\n",
    "#     init.normal(w1,0,0)\n",
    "    b1 = Variable(b1, requires_grad=True)\n",
    "\n",
    "    w2 = torch.FloatTensor(hidden_size, output_size).type(torch.DoubleTensor)\n",
    "#     init.normal_(w2,0,0.3)\n",
    "#     init.normal(w2,0,0)\n",
    "    w2 = Variable(w2, requires_grad=True)\n",
    "    \n",
    "    b2 = torch.FloatTensor(1, output_size).type(torch.DoubleTensor)\n",
    "#     init.normal_(b2,0,0.3)\n",
    "#     init.normal(w1,0,0)\n",
    "    b2 = Variable(b2, requires_grad=True)\n",
    "\n",
    "    w3 = torch.FloatTensor(hidden_size, hidden_size).type(torch.DoubleTensor)\n",
    "#     init.normal_(w3,0,0.1)\n",
    "#     init.normal(w2,0,0)\n",
    "    w3 = Variable(w3, requires_grad=True)\n",
    "    \n",
    "    return w1,w2,w3,b1,b2"
   ]
  },
  {
   "cell_type": "code",
   "execution_count": 6,
   "id": "4da568ce",
   "metadata": {
    "ExecuteTime": {
     "end_time": "2023-12-15T07:03:59.338289Z",
     "start_time": "2023-12-15T07:03:59.333543Z"
    }
   },
   "outputs": [],
   "source": [
    "w1,w2,w3,b1,b2 = initialize()"
   ]
  },
  {
   "cell_type": "code",
   "execution_count": 7,
   "id": "c04c9be0",
   "metadata": {
    "ExecuteTime": {
     "end_time": "2023-12-15T07:03:59.672290Z",
     "start_time": "2023-12-15T07:03:59.665836Z"
    }
   },
   "outputs": [],
   "source": [
    "size=3\n",
    "w=0.9\n",
    "c1=2\n",
    "c2=2\n",
    "max_v=0.5\n",
    "max_iter=\n",
    "\n",
    "# 编码长度\n",
    "params_template = [copy.deepcopy(w1),copy.deepcopy(w2),copy.deepcopy(w3),copy.deepcopy(b1),copy.deepcopy(b2)]\n",
    "chrom_len = 0\n",
    "for i in range(len(params_template)):\n",
    "    params_len = np.prod(params_template[i].shape)\n",
    "    chrom_len += params_len"
   ]
  },
  {
   "cell_type": "code",
   "execution_count": 8,
   "id": "cf537a9d",
   "metadata": {
    "ExecuteTime": {
     "end_time": "2023-12-15T07:04:00.023696Z",
     "start_time": "2023-12-15T07:04:00.018324Z"
    }
   },
   "outputs": [],
   "source": [
    "def chrom_to_params(chrom):\n",
    "    \"\"\" 染色体转码为模型参数 \"\"\"\n",
    "    params_template = [copy.deepcopy(w1),copy.deepcopy(w2),\n",
    "                   copy.deepcopy(w3),copy.deepcopy(b1),copy.deepcopy(b2)]\n",
    "    params = copy.deepcopy(params_template)\n",
    "    idx = 0\n",
    "    for i in range(len(params)):\n",
    "        params_len = np.prod(params[i].shape)\n",
    "        param = torch.from_numpy(chrom[idx: idx+params_len]).reshape(params[i].shape)\n",
    "        params[i] = param\n",
    "        idx += params_len\n",
    "    return params"
   ]
  },
  {
   "cell_type": "code",
   "execution_count": 11,
   "id": "60b51ab8",
   "metadata": {
    "ExecuteTime": {
     "end_time": "2023-12-15T07:04:27.532464Z",
     "start_time": "2023-12-15T07:04:27.526234Z"
    }
   },
   "outputs": [],
   "source": [
    "def calculate_fitness(chrom):\n",
    "    \"\"\" GA适应性函数 \"\"\"\n",
    "    fitness=[]\n",
    "    elman = Elman.Elman(hidden_size,epochs=1,lr=0.1)\n",
    "    \n",
    "    for i in range(chrom.shape[0]):\n",
    "        params = chrom_to_params(chrom[i])\n",
    "        w1 = Variable(params[0], requires_grad=True)\n",
    "        w2 = Variable(params[1], requires_grad=True)\n",
    "        w3 = Variable(params[2], requires_grad=True)\n",
    "        b1 = Variable(params[3], requires_grad=True)\n",
    "        b2 = Variable(params[4], requires_grad=True)\n",
    "        \n",
    "        loss,_ = elman.train(x_train,y_train,w1,w2,w3,b1,b2)\n",
    "    #     fitness_i = 1./loss\n",
    "#         fitness.append(fitness_i)\n",
    "        fitness.append(loss)\n",
    "    return np.array(fitness)"
   ]
  },
  {
   "cell_type": "code",
   "execution_count": 15,
   "id": "b13f3bda",
   "metadata": {
    "ExecuteTime": {
     "end_time": "2023-12-15T08:29:42.515184Z",
     "start_time": "2023-12-15T08:29:33.499323Z"
    }
   },
   "outputs": [],
   "source": [
    "elman = Elman.Elman(hidden_size,epochs=1,lr=0.1)\n",
    "pso = PSO.PSO(calculate_fitness,size,w,c1,c2,max_v,chrom_len,max_iter)\n",
    "best_pso_chrom = pso.roll()\n",
    "best_pso_params = chrom_to_params(pso.roll())"
   ]
  },
  {
   "cell_type": "code",
   "execution_count": 16,
   "id": "122881fe",
   "metadata": {
    "ExecuteTime": {
     "end_time": "2023-12-15T08:29:52.751702Z",
     "start_time": "2023-12-15T08:29:52.746700Z"
    }
   },
   "outputs": [],
   "source": [
    "w1,w2,w3,b1,b2 = best_pso_params[0],best_pso_params[1],best_pso_params[2],best_pso_params[3],best_pso_params[4]"
   ]
  },
  {
   "cell_type": "code",
   "execution_count": 24,
   "id": "4c7efaab",
   "metadata": {
    "ExecuteTime": {
     "end_time": "2023-12-15T08:34:06.760859Z",
     "start_time": "2023-12-15T08:34:06.757008Z"
    }
   },
   "outputs": [],
   "source": [
    "test_loss, y_hat = elman.test(x_test,y_test,w1,w2,w3,b1,b2)"
   ]
  }
 ],
 "metadata": {
  "kernelspec": {
   "display_name": "Python 3 (ipykernel)",
   "language": "python",
   "name": "python3"
  },
  "language_info": {
   "codemirror_mode": {
    "name": "ipython",
    "version": 3
   },
   "file_extension": ".py",
   "mimetype": "text/x-python",
   "name": "python",
   "nbconvert_exporter": "python",
   "pygments_lexer": "ipython3",
   "version": "3.11.3"
  },
  "varInspector": {
   "cols": {
    "lenName": 16,
    "lenType": 16,
    "lenVar": 40
   },
   "kernels_config": {
    "python": {
     "delete_cmd_postfix": "",
     "delete_cmd_prefix": "del ",
     "library": "var_list.py",
     "varRefreshCmd": "print(var_dic_list())"
    },
    "r": {
     "delete_cmd_postfix": ") ",
     "delete_cmd_prefix": "rm(",
     "library": "var_list.r",
     "varRefreshCmd": "cat(var_dic_list()) "
    }
   },
   "types_to_exclude": [
    "module",
    "function",
    "builtin_function_or_method",
    "instance",
    "_Feature"
   ],
   "window_display": false
  }
 },
 "nbformat": 4,
 "nbformat_minor": 5
}
