{
 "cells": [
  {
   "cell_type": "code",
   "execution_count": null,
   "id": "d600fac8",
   "metadata": {},
   "outputs": [],
   "source": [
    "import numpy as np\n",
    "import pandas as pd\n",
    "import matplotlib.pyplot as plt"
   ]
  },
  {
   "cell_type": "code",
   "execution_count": 1,
   "id": "0e971095",
   "metadata": {
    "ExecuteTime": {
     "end_time": "2023-11-27T11:18:46.898907Z",
     "start_time": "2023-11-27T11:18:46.893385Z"
    }
   },
   "outputs": [],
   "source": [
    "def sigmoid(x, derivative=False):\n",
    "    return 1 / (1 + np.exp(-x)) if not derivative else x * (1 - x)\n",
    "\n",
    "def tanh(x, derivative=False):\n",
    "    return np.tanh(x) if not derivative else 1 - x * x\n",
    "\n",
    "def relu(x, derivative=False):\n",
    "    if not derivative:\n",
    "        output = np.copy(x)\n",
    "        output[output < 0] = 0\n",
    "        return output\n",
    "\n",
    "    if derivative:\n",
    "        output = np.copy(x)\n",
    "        output[output > 0] = 1\n",
    "        output[output <= 0] = 0\n",
    "        return output\n",
    "\n",
    "func_dict = {}\n",
    "func_dict['sigmoid'] = sigmoid\n",
    "func_dict['tanh'] = tanh\n",
    "func_dict['relu'] = relu"
   ]
  },
  {
   "cell_type": "code",
   "execution_count": null,
   "id": "fa70a020",
   "metadata": {
    "ExecuteTime": {
     "end_time": "2023-11-27T11:19:16.325257Z",
     "start_time": "2023-11-27T11:19:16.325257Z"
    }
   },
   "outputs": [],
   "source": [
    "class CPCLSNet(object):\n",
    "\n",
    "    def __init__(self, input_size, output_size, hidden_size, sample_num):\n",
    "        self.n = input_size\n",
    "        self.q = output_size\n",
    "        self.p = hidden_size\n",
    "        self.m = sample_num\n",
    "        self.delta_p = 1\n",
    "        self.X = []\n",
    "        self.Y = []\n",
    "        self.H = []\n",
    "        self.W = []\n",
    "        self.B = []\n",
    "\n",
    "        self.f = func_dict['sigmoid']\n",
    "        self.hlayer_num = 0\n",
    "\n",
    "    def set_data(self, x_train, y_train, x_test, y_test):\n",
    "        self.X.append(x_train.tolist())\n",
    "        self.Y.append(y_train.tolist())\n",
    "        self.x_test = x_test\n",
    "        self.y_test = y_test\n",
    "\n",
    "    def cal_ih_weight(self):\n",
    "        print(\"p:{}\".format(self.p))\n",
    "        x = np.array(self.X[self.hlayer_num])\n",
    "        S = np.dot((x - np.mean(x, axis=0)).T, (x - np.mean(x, axis=0)))\n",
    "        S = S / (self.m - 1)\n",
    "        print(\"S shape:{}\".format(S.shape))\n",
    "        # 增加复数判断，直接取实数部分。\n",
    "        eigenval = np.linalg.eig(S)[0]\n",
    "        if eigenval.dtype=='complex128':\n",
    "            eigenval = eigenval.real\n",
    "        big0 = np.where(eigenval>1e-2,1,0)\n",
    "        \n",
    "        biggest = np.sum(big0)\n",
    "        print(biggest)\n",
    "        if biggest<self.delta_p:\n",
    "            self.delta_p = biggest\n",
    "        eigenvec = np.linalg.eig(S)[1]\n",
    "\n",
    "        # select highest p eigenvalue & corresponding eigenvector\n",
    "        eigenval_sort = np.argsort(eigenval)\n",
    "#         print(eigenval)\n",
    "#         print(eigenval[eigenval_sort[-self.p:]])\n",
    "        W = eigenvec[eigenval_sort[-self.p:]].T\n",
    "        if W.dtype=='complex128':\n",
    "            W = W.real\n",
    "\n",
    "        self.W.append(W.tolist())\n",
    "        \n",
    "\n",
    "    def cal_hidden_out(self):\n",
    "        x = np.array(self.X[self.hlayer_num])\n",
    "        w = np.array(self.W[self.hlayer_num])\n",
    "#         out = np.dot(x, w)\n",
    "#         print(\"out shape:{}\".format(out.shape))\n",
    "        H = np.dot(x, w)\n",
    "#         H = self.f(out)\n",
    "\n",
    "        return H\n",
    "\n",
    "    def update_HX(self):\n",
    "        newH = self.cal_hidden_out().tolist()\n",
    "        oldx = np.array(self.X[self.hlayer_num])\n",
    "        newx = np.hstack((oldx,newH))\n",
    "        self.X.append(newx.tolist())\n",
    "        self.H.append(newH)\n",
    "\n",
    "    def cal_ho_weight(self):\n",
    "        h = np.array(self.H[-1])\n",
    "        y = np.array(self.Y[0])\n",
    "        beta1 = np.linalg.inv(np.dot(h.T, h))\n",
    "        beta2 = np.dot(beta1, h.T)\n",
    "        beta = np.dot(beta2, y)\n",
    "        self.B.append(beta.tolist())\n",
    "\n",
    "    def cal_out_mat(self):\n",
    "        h = np.array(self.H[-1])\n",
    "        b = np.array(self.B[-1])\n",
    "        y_hat = np.dot(h, b)\n",
    "\n",
    "        return y_hat\n",
    "\n",
    "    def update_p(self):\n",
    "        self.p += self.delta_p\n",
    "        \n",
    "    def forward(self):\n",
    "        x = np.array(self.x_test)\n",
    "        b = np.array(self.B[-1])\n",
    "        for i in range(self.hlayer_num):\n",
    "            w = np.array(self.W[i])\n",
    "#             out = np.dot(x, w)   \n",
    "            h = np.dot(x, w)\n",
    "#             h = self.f(out)\n",
    "            x = np.hstack((x,h.tolist()))\n",
    "        y_pred = np.dot(h,b)\n",
    "        \n",
    "        return y_pred\n",
    "    \n",
    "    \n",
    "    def train(self):\n",
    "        loss=[]\n",
    "        loss_test=[]\n",
    "        e=999\n",
    "        for i in range(50):\n",
    "            if e < 6e-5:\n",
    "                break\n",
    "            print(\"\\n#####{}#####\".format(i))\n",
    "            self.cal_ih_weight()\n",
    "            self.update_HX()\n",
    "            self.cal_ho_weight()\n",
    "            y_hat = self.cal_out_mat()\n",
    "            e = np.mean((y_hat - self.Y) ** 2)\n",
    "            print(\"error:{:.8f}\".format(e))\n",
    "            self.update_p()\n",
    "            self.hlayer_num+=1\n",
    "            i+=1\n",
    "            y_pred = self.forward()\n",
    "            l = np.mean((y_pred - self.y_test) ** 2)\n",
    "            print(l)\n",
    "            loss.append(e)\n",
    "            loss_test.append(l)\n",
    "        return loss,loss_test\n",
    "            \n",
    "        "
   ]
  },
  {
   "cell_type": "code",
   "execution_count": 8,
   "id": "32f9fbae",
   "metadata": {
    "ExecuteTime": {
     "end_time": "2023-11-27T11:20:11.671895Z",
     "start_time": "2023-11-27T11:20:11.635358Z"
    }
   },
   "outputs": [],
   "source": [
    "from sklearn.preprocessing import MinMaxScaler\n",
    "\n",
    "train_data = pd.read_csv('../Dataset/Denoicing/Train.csv')\n",
    "test_data = pd.read_csv('../Dataset/Denoicing/Test.csv')\n",
    "_data = pd.concat([train_data, test_data], axis=0).reset_index(drop=True)\n",
    "\n",
    "sc_x_train = MinMaxScaler(feature_range=(0, 1))\n",
    "sc_y_train = MinMaxScaler(feature_range=(0, 1))\n",
    "_data_x = _data.drop(labels=['FF', 'FF1C', 'FF2C'], axis=1).copy()\n",
    "sc_x_train.fit(_data_x)\n",
    "_data_y = _data[['FF']].copy()\n",
    "sc_y_train.fit(_data_y)\n",
    "\n",
    "X_train = train_data.drop(labels=['FF', 'FF1C', 'FF2C'], axis=1).copy()\n",
    "x_train = sc_x_train.transform(X_train)\n",
    "\n",
    "Y_train = train_data[['FF']].copy()\n",
    "y_train = sc_y_train.transform(Y_train)\n",
    "\n",
    "X_test = test_data.drop(labels=['FF', 'FF1C', 'FF2C'], axis=1).copy()\n",
    "x_test = sc_x_train.transform(X_test)\n",
    "\n",
    "Y_test = test_data[['FF']].copy()\n",
    "y_test = sc_y_train.transform(Y_test)"
   ]
  },
  {
   "cell_type": "code",
   "execution_count": 9,
   "id": "4ed0e672",
   "metadata": {
    "ExecuteTime": {
     "end_time": "2023-11-27T11:20:12.989254Z",
     "start_time": "2023-11-27T11:20:12.986376Z"
    }
   },
   "outputs": [
    {
     "name": "stdout",
     "output_type": "stream",
     "text": [
      "16 1 1961\n"
     ]
    }
   ],
   "source": [
    "input_size, output_size, sample_size = x_train.shape[1], y_train.shape[1], x_train.shape[0]\n",
    "print(input_size,output_size,sample_size)"
   ]
  },
  {
   "cell_type": "code",
   "execution_count": null,
   "id": "219b4f08",
   "metadata": {},
   "outputs": [],
   "source": [
    "cpclsnet = CPCLSNet(input_size,output_size,16,sample_size)\n",
    "cpclsnet.set_data(x_train, y_train, x_test, y_test)\n",
    "loss, loss_test = cpclsnet.train()"
   ]
  }
 ],
 "metadata": {
  "kernelspec": {
   "display_name": "Python 3 (ipykernel)",
   "language": "python",
   "name": "python3"
  },
  "language_info": {
   "codemirror_mode": {
    "name": "ipython",
    "version": 3
   },
   "file_extension": ".py",
   "mimetype": "text/x-python",
   "name": "python",
   "nbconvert_exporter": "python",
   "pygments_lexer": "ipython3",
   "version": "3.11.3"
  },
  "varInspector": {
   "cols": {
    "lenName": 16,
    "lenType": 16,
    "lenVar": 40
   },
   "kernels_config": {
    "python": {
     "delete_cmd_postfix": "",
     "delete_cmd_prefix": "del ",
     "library": "var_list.py",
     "varRefreshCmd": "print(var_dic_list())"
    },
    "r": {
     "delete_cmd_postfix": ") ",
     "delete_cmd_prefix": "rm(",
     "library": "var_list.r",
     "varRefreshCmd": "cat(var_dic_list()) "
    }
   },
   "types_to_exclude": [
    "module",
    "function",
    "builtin_function_or_method",
    "instance",
    "_Feature"
   ],
   "window_display": false
  }
 },
 "nbformat": 4,
 "nbformat_minor": 5
}
